{
 "cells": [
  {
   "cell_type": "markdown",
   "id": "2d7d830c",
   "metadata": {},
   "source": [
    "# Project: Black Friday Excel Data_Maven Ski Shop"
   ]
  },
  {
   "cell_type": "markdown",
   "id": "26f0ff44",
   "metadata": {},
   "source": [
    "### *Manipulate data from an Excel worksheet using the Python by importing openpyxl package*"
   ]
  },
  {
   "cell_type": "markdown",
   "id": "944005e8",
   "metadata": {},
   "source": [
    "#### **OBJECTIVE**: *For given excel workbook, Calculating the missing data i.e. taxes and totals using python*"
   ]
  },
  {
   "cell_type": "code",
   "execution_count": 1,
   "id": "59343dde",
   "metadata": {},
   "outputs": [],
   "source": [
    "import openpyxl as xl\n",
    "from pprint import pprint # pprint prints dictionaries neatly"
   ]
  },
  {
   "cell_type": "markdown",
   "id": "b323bd31",
   "metadata": {},
   "source": [
    "## Part 1\n",
    "\n",
    "First, Reading the workbook\n",
    "\n",
    "Then, assign the orders worksheet to variable name. "
   ]
  },
  {
   "cell_type": "code",
   "execution_count": 2,
   "id": "8a7157e9",
   "metadata": {},
   "outputs": [],
   "source": [
    "wb = xl.load_workbook(filename ='maven_ski_shop_data.xlsx')\n",
    "wb.sheetnames #Used to see all the worksheet\n",
    "\n",
    "items =wb['Item_Info']\n",
    "inventory = wb['Inventory_Levels']\n",
    "orders = wb['Orders_Info']\n",
    "\n",
    "# orders.max_column (Used to check no of columns)"
   ]
  },
  {
   "cell_type": "markdown",
   "id": "0fdff76c",
   "metadata": {},
   "source": [
    "### Column Printer Function\n",
    "\n",
    "Creating a helper function to print all the rows a specified column.\n",
    "\n",
    "This will help us view imported data without looking at Excel, and review the data we've written into columns without needing to save a file to review the changes.\n",
    "\n",
    "Function has take two arguments:\n",
    "\n",
    "* Worksheet where data is located\n",
    "* Column Letter of data to print\n",
    "\n",
    "This function will:\n",
    "\n",
    "* Print Cell Coordinate (e.g. A1, D4).\n",
    "* Print the contents of the cell.\n",
    "\n",
    "Then calling the function twice to check the function:\n",
    "\n",
    "* Once to print Order ID (column A in 'Orders_Info')\n",
    "* Once to print subtotal (column D in 'Orders_Info')"
   ]
  },
  {
   "cell_type": "code",
   "execution_count": 3,
   "id": "239d64b3",
   "metadata": {},
   "outputs": [],
   "source": [
    "def column_printer(ws,col):\n",
    "    for row in range(1,ws.max_column+1):\n",
    "         print(col+str(row) , ws[col+str(row)].value)"
   ]
  },
  {
   "cell_type": "code",
   "execution_count": 4,
   "id": "8146bf34",
   "metadata": {},
   "outputs": [
    {
     "name": "stdout",
     "output_type": "stream",
     "text": [
      "A1 Order_ID\n",
      "A2 100000\n",
      "A3 100001\n",
      "A4 100002\n",
      "A5 100003\n",
      "A6 100004\n",
      "A7 100005\n",
      "A8 100006\n",
      "A9 100007\n",
      "A10 100008\n",
      "A11 100009\n"
     ]
    }
   ],
   "source": [
    "column_printer(orders, 'A')"
   ]
  },
  {
   "cell_type": "code",
   "execution_count": 5,
   "id": "b653f668",
   "metadata": {},
   "outputs": [
    {
     "name": "stdout",
     "output_type": "stream",
     "text": [
      "D1 Subtotal\n",
      "D2 15.98\n",
      "D3 899.97\n",
      "D4 799.97\n",
      "D5 117.96\n",
      "D6 5.99\n",
      "D7 599.99\n",
      "D8 24.99\n",
      "D9 1799.94\n",
      "D10 99.99\n",
      "D11 254.95\n"
     ]
    }
   ],
   "source": [
    "column_printer(orders, 'D')"
   ]
  },
  {
   "cell_type": "markdown",
   "id": "b4b6d8ea",
   "metadata": {},
   "source": [
    "### Order Data Dictionary\n",
    "\n",
    "Creating a dictionary with all of the information contained in the 'Orders_Info' Worksheet.\n",
    "\n",
    "* The dictionary keys should be Order IDs (Column A)\n",
    "* The values should a list storing the data in the rest of the columns.\n",
    "* The columns in the list stored as values should be B, C, D, G, and H (after converting to list). \n",
    "* For example: The first order, column H should be the nested list: [10001, 10002]\n"
   ]
  },
  {
   "cell_type": "code",
   "execution_count": 6,
   "id": "0bbb4a35",
   "metadata": {},
   "outputs": [
    {
     "name": "stdout",
     "output_type": "stream",
     "text": [
      "{100000: ['C00004', '11/26/2021', 15.98, 'Sun Valley', ['10001', ' 10002']],\n",
      " 100001: ['C00007',\n",
      "          '11/26/2021',\n",
      "          899.97,\n",
      "          'Stowe',\n",
      "          ['10008', ' 10009', ' 10010']],\n",
      " 100002: ['C00015',\n",
      "          '11/26/2021',\n",
      "          799.97,\n",
      "          'Mammoth',\n",
      "          ['10011', ' 10012', ' 10013']],\n",
      " 100003: ['C00016',\n",
      "          '11/26/2021',\n",
      "          117.96,\n",
      "          'Stowe',\n",
      "          ['10002', ' 10003', ' 10004', ' 10006']],\n",
      " 100004: ['C00020', '11/26/2021', 5.99, 'Sun Valley', ['10001']],\n",
      " 100005: ['C00010', '11/26/2021', 599.99, 'Mammoth', ['10010']],\n",
      " 100006: ['C00006', '11/26/2021', 24.99, 'Mammoth', ['10004']],\n",
      " 100007: ['C00001',\n",
      "          '11/26/2021',\n",
      "          1799.94,\n",
      "          'Mammoth',\n",
      "          ['10008',\n",
      "           ' 10008',\n",
      "           ' 10009',\n",
      "           ' 10009',\n",
      "           ' 10009',\n",
      "           ' 10010',\n",
      "           ' 10010']],\n",
      " 100008: ['C00003', '11/26/2021', 99.99, 'Sun Valley', ['10005']],\n",
      " 100009: ['C00014',\n",
      "          '11/26/2021',\n",
      "          254.95,\n",
      "          'Sun Valley',\n",
      "          ['10002', ' 10003', ' 10004', ' 10006', ' 10007']],\n",
      " 100010: ['C00001', '11/26/2021', 29.98, 'Mammoth', ['10002', ' 10003']],\n",
      " 100011: ['C00001', '11/26/2021', 99.99, 'Mammoth', ['10005']],\n",
      " 100012: ['C00005', '11/26/2021', 25.98, 'Sun Valley', ['10001', ' 10003']],\n",
      " 100013: ['C00008', '11/26/2021', 649.98, 'Stowe', ['10012', ' 10013']],\n",
      " 100014: ['C00013', '11/26/2021', 89.99, 'Sun Valley', ['10014']],\n",
      " 100020: ['C00004', '11/27/2021', 119.99, 'Sun Valley', ['10007']],\n",
      " 100021: ['C00017', '11/27/2021', 599.99, 'Stowe', ['10010']],\n",
      " 100022: ['C00019', '11/27/2021', 649.98, 'Sun Valley', ['10012', ' 10013']],\n",
      " 100023: ['C00002', '11/27/2021', 24.99, 'Stowe', ['10004']],\n",
      " 100024: ['C00008', '11/27/2021', 99.99, 'Stowe', ['10005']],\n",
      " 100025: ['C00021', '11/27/2021', 99.99, 'Mammoth', ['10008']],\n",
      " 100026: ['C00022', '11/27/2021', 5.99, 'Sun Valley', ['10001']],\n",
      " 100027: ['C00006', '11/28/2021', 24.99, 'Mammoth', ['10002']],\n",
      " 100031: ['C00018',\n",
      "          '11/28/2021',\n",
      "          999.96,\n",
      "          'Stowe',\n",
      "          ['10005', ' 10008', ' 10009', ' 10010']],\n",
      " 100032: ['C00018', '11/28/2021', 99.99, 'Stowe', ['10006']],\n",
      " 100033: ['C00010',\n",
      "          '11/28/2021',\n",
      "          399.97,\n",
      "          'Mammoth',\n",
      "          ['10005', ' 10008', ' 10009']],\n",
      " 100034: ['C00016', '11/28/2021', 89.99, 'Stowe', ['10014']]}\n"
     ]
    }
   ],
   "source": [
    "order_dict = {\n",
    "    orders['A'+str(order)].value : [\n",
    "        orders['B'+str(order)].value,\n",
    "        orders['C'+str(order)].value,\n",
    "        orders['D'+str(order)].value,\n",
    "        orders['G'+str(order)].value,\n",
    "        str(orders['H'+str(order)].value).split(',')\n",
    "        ] for order in range(2,orders.max_row+1)\n",
    "}\n",
    "pprint(order_dict)"
   ]
  },
  {
   "cell_type": "markdown",
   "id": "0a01af28",
   "metadata": {},
   "source": [
    "### Sales Tax Calculation\n",
    "\n",
    "Calculating the sales tax and total amount owed for every order in this sheet.\n",
    "\n",
    "Given,\n",
    "* If location is Sun Valley, apply a sales tax of 8%\n",
    "* If location is Mammoth, apply a sales tax of 7.75%.\n",
    "* If location is Stowe, apply a sales tax of 6%\n",
    "\n",
    "Using the tax_calculator function to apply sales tax to each subtotal.\n",
    "\n",
    "**Inserting** the calculated sales tax and total amounts into your customer dictionary immediately after subtotal."
   ]
  },
  {
   "cell_type": "code",
   "execution_count": 7,
   "id": "4e1c1e6a",
   "metadata": {
    "scrolled": false
   },
   "outputs": [],
   "source": [
    "from tax_calculator import tax_calculator  #returns [subtotal, tax, total]\n",
    "\n",
    "for i in order_dict.values():\n",
    "    if i[3]=='Sun Valley':\n",
    "        transaction = tax_calculator(i[2],.08)\n",
    "    elif i[3]=='Mammoth':\n",
    "        transaction = tax_calculator(i[2],.0775)\n",
    "    else:\n",
    "        transaction = tax_calculator(i[2],.06)\n",
    "        \n",
    "    i.insert(3,transaction[1])\n",
    "    i.insert(4,transaction[2])\n",
    "    "
   ]
  },
  {
   "cell_type": "code",
   "execution_count": 8,
   "id": "a0d8d395",
   "metadata": {},
   "outputs": [
    {
     "name": "stdout",
     "output_type": "stream",
     "text": [
      "{100000: ['C00004',\n",
      "          '11/26/2021',\n",
      "          15.98,\n",
      "          1.28,\n",
      "          17.26,\n",
      "          'Sun Valley',\n",
      "          ['10001', ' 10002']],\n",
      " 100001: ['C00007',\n",
      "          '11/26/2021',\n",
      "          899.97,\n",
      "          54.0,\n",
      "          953.97,\n",
      "          'Stowe',\n",
      "          ['10008', ' 10009', ' 10010']],\n",
      " 100002: ['C00015',\n",
      "          '11/26/2021',\n",
      "          799.97,\n",
      "          62.0,\n",
      "          861.97,\n",
      "          'Mammoth',\n",
      "          ['10011', ' 10012', ' 10013']],\n",
      " 100003: ['C00016',\n",
      "          '11/26/2021',\n",
      "          117.96,\n",
      "          7.08,\n",
      "          125.04,\n",
      "          'Stowe',\n",
      "          ['10002', ' 10003', ' 10004', ' 10006']],\n",
      " 100004: ['C00020', '11/26/2021', 5.99, 0.48, 6.47, 'Sun Valley', ['10001']],\n",
      " 100005: ['C00010', '11/26/2021', 599.99, 46.5, 646.49, 'Mammoth', ['10010']],\n",
      " 100006: ['C00006', '11/26/2021', 24.99, 1.94, 26.93, 'Mammoth', ['10004']],\n",
      " 100007: ['C00001',\n",
      "          '11/26/2021',\n",
      "          1799.94,\n",
      "          139.5,\n",
      "          1939.44,\n",
      "          'Mammoth',\n",
      "          ['10008',\n",
      "           ' 10008',\n",
      "           ' 10009',\n",
      "           ' 10009',\n",
      "           ' 10009',\n",
      "           ' 10010',\n",
      "           ' 10010']],\n",
      " 100008: ['C00003', '11/26/2021', 99.99, 8.0, 107.99, 'Sun Valley', ['10005']],\n",
      " 100009: ['C00014',\n",
      "          '11/26/2021',\n",
      "          254.95,\n",
      "          20.4,\n",
      "          275.35,\n",
      "          'Sun Valley',\n",
      "          ['10002', ' 10003', ' 10004', ' 10006', ' 10007']],\n",
      " 100010: ['C00001',\n",
      "          '11/26/2021',\n",
      "          29.98,\n",
      "          2.32,\n",
      "          32.3,\n",
      "          'Mammoth',\n",
      "          ['10002', ' 10003']],\n",
      " 100011: ['C00001', '11/26/2021', 99.99, 7.75, 107.74, 'Mammoth', ['10005']],\n",
      " 100012: ['C00005',\n",
      "          '11/26/2021',\n",
      "          25.98,\n",
      "          2.08,\n",
      "          28.06,\n",
      "          'Sun Valley',\n",
      "          ['10001', ' 10003']],\n",
      " 100013: ['C00008',\n",
      "          '11/26/2021',\n",
      "          649.98,\n",
      "          39.0,\n",
      "          688.98,\n",
      "          'Stowe',\n",
      "          ['10012', ' 10013']],\n",
      " 100014: ['C00013', '11/26/2021', 89.99, 7.2, 97.19, 'Sun Valley', ['10014']],\n",
      " 100020: ['C00004', '11/27/2021', 119.99, 9.6, 129.59, 'Sun Valley', ['10007']],\n",
      " 100021: ['C00017', '11/27/2021', 599.99, 36.0, 635.99, 'Stowe', ['10010']],\n",
      " 100022: ['C00019',\n",
      "          '11/27/2021',\n",
      "          649.98,\n",
      "          52.0,\n",
      "          701.98,\n",
      "          'Sun Valley',\n",
      "          ['10012', ' 10013']],\n",
      " 100023: ['C00002', '11/27/2021', 24.99, 1.5, 26.49, 'Stowe', ['10004']],\n",
      " 100024: ['C00008', '11/27/2021', 99.99, 6.0, 105.99, 'Stowe', ['10005']],\n",
      " 100025: ['C00021', '11/27/2021', 99.99, 7.75, 107.74, 'Mammoth', ['10008']],\n",
      " 100026: ['C00022', '11/27/2021', 5.99, 0.48, 6.47, 'Sun Valley', ['10001']],\n",
      " 100027: ['C00006', '11/28/2021', 24.99, 1.94, 26.93, 'Mammoth', ['10002']],\n",
      " 100031: ['C00018',\n",
      "          '11/28/2021',\n",
      "          999.96,\n",
      "          60.0,\n",
      "          1059.96,\n",
      "          'Stowe',\n",
      "          ['10005', ' 10008', ' 10009', ' 10010']],\n",
      " 100032: ['C00018', '11/28/2021', 99.99, 6.0, 105.99, 'Stowe', ['10006']],\n",
      " 100033: ['C00010',\n",
      "          '11/28/2021',\n",
      "          399.97,\n",
      "          31.0,\n",
      "          430.97,\n",
      "          'Mammoth',\n",
      "          ['10005', ' 10008', ' 10009']],\n",
      " 100034: ['C00016', '11/28/2021', 89.99, 5.4, 95.39, 'Stowe', ['10014']]}\n"
     ]
    }
   ],
   "source": [
    "pprint(order_dict)"
   ]
  },
  {
   "cell_type": "markdown",
   "id": "5d3460da",
   "metadata": {},
   "source": [
    "### Writing Sales Tax and Total Into the Excel Sheet\n",
    "\n",
    "Writing the sales tax and total into the workbook, then saving the workbook as\n",
    "\n",
    " 'maven_ski_shop_data_final'."
   ]
  },
  {
   "cell_type": "code",
   "execution_count": 9,
   "id": "957e2656",
   "metadata": {},
   "outputs": [],
   "source": [
    "for index, order in enumerate(order_dict.values(), start=2):\n",
    "    orders['E'+str(index)] = order[3]\n",
    "    orders['F'+str(index)] = order[4]"
   ]
  },
  {
   "cell_type": "code",
   "execution_count": 10,
   "id": "0ed681d9",
   "metadata": {},
   "outputs": [],
   "source": [
    "wb.save('maven_ski_shop_data_final.xlsx')"
   ]
  },
  {
   "cell_type": "markdown",
   "id": "328ba670",
   "metadata": {},
   "source": [
    "## Part 2\n",
    "\n",
    "### Analysis Data\n",
    "\n",
    "\n",
    "Writing a function that calculates the sum of a 'column' of data in our dictionary.\n",
    "\n",
    "A 'column' for example, would be subtotals, which is at index 2 in the list stored as our dictionary values.\n",
    "\n",
    "The function takes the following arguments:\n",
    "\n",
    "* Column Index (the index of the data of interest in the list stored in our dictionary values)\n",
    "* Dictionary Name\n",
    "\n",
    "The expected output:\n",
    "\n",
    "* The sum of values in the column (rounded to two decimal places)\n"
   ]
  },
  {
   "cell_type": "code",
   "execution_count": 11,
   "id": "284693e9",
   "metadata": {},
   "outputs": [],
   "source": [
    "def column_sum(column_index, dictionary):\n",
    "    total = 0\n",
    "    for i in dictionary.values():\n",
    "        total = total + i[column_index]\n",
    "    return round(total,2)"
   ]
  },
  {
   "cell_type": "markdown",
   "id": "d83413fe",
   "metadata": {},
   "source": [
    "#### Sum The Subtotal, Tax, and Total Columns \n",
    "\n",
    "Using column sum function, to calculate the sum of:\n",
    "\n",
    "* Subtotals\n",
    "* Taxes\n",
    "* Totals"
   ]
  },
  {
   "cell_type": "code",
   "execution_count": 12,
   "id": "f96d2f45",
   "metadata": {
    "scrolled": true
   },
   "outputs": [
    {
     "name": "stdout",
     "output_type": "stream",
     "text": [
      "8731.47\n",
      "617.2\n",
      "9348.67\n"
     ]
    }
   ],
   "source": [
    "print(column_sum(2, order_dict))\n",
    "print(column_sum(3, order_dict))\n",
    "print(column_sum(4, order_dict))"
   ]
  },
  {
   "cell_type": "markdown",
   "id": "b2720242",
   "metadata": {},
   "source": [
    "### Average of subtotals\n",
    "\n",
    "Calculating the average value of the transactions done."
   ]
  },
  {
   "cell_type": "code",
   "execution_count": 13,
   "id": "1aa1093a",
   "metadata": {},
   "outputs": [
    {
     "name": "stdout",
     "output_type": "stream",
     "text": [
      "323.39\n"
     ]
    }
   ],
   "source": [
    "total = column_sum(2, order_dict)\n",
    "no_of_transaction = len(order_dict)\n",
    "\n",
    "avg = (total)/(no_of_transaction)\n",
    "\n",
    "print(round(avg,2))"
   ]
  },
  {
   "cell_type": "markdown",
   "id": "fa8f7168",
   "metadata": {},
   "source": [
    "###  Unique customers\n",
    "\n",
    "Calculating the total number of unique customers in the sales data.\n",
    "\n",
    "And also calculating the number of orders per customer (total orders / unique customers)"
   ]
  },
  {
   "cell_type": "code",
   "execution_count": 14,
   "id": "7af182d6",
   "metadata": {},
   "outputs": [
    {
     "name": "stdout",
     "output_type": "stream",
     "text": [
      " unique customer is 19 and orders_per_customer is 1.42\n"
     ]
    }
   ],
   "source": [
    "a = [i[0] for i in order_dict.values()]\n",
    "b= len(set(a))\n",
    "orders_per_customer =round((len(order_dict) / b),2)\n",
    "\n",
    "print(f' unique customer is {b} and orders_per_customer is {orders_per_customer}')"
   ]
  },
  {
   "cell_type": "markdown",
   "id": "ff483459",
   "metadata": {},
   "source": [
    "### Calculating total number of items sold\n",
    "\n",
    "Calculating the total number of items we sold in across all orders. \n",
    "\n",
    "This information is in Column H, which is the last element in order_dict's values."
   ]
  },
  {
   "cell_type": "code",
   "execution_count": 15,
   "id": "2f7d15ac",
   "metadata": {},
   "outputs": [
    {
     "name": "stdout",
     "output_type": "stream",
     "text": [
      "54\n"
     ]
    }
   ],
   "source": [
    "a = 0\n",
    "for i in order_dict.values():\n",
    "    a += len(i[-1])\n",
    "print(a)"
   ]
  },
  {
   "cell_type": "markdown",
   "id": "05abd311",
   "metadata": {},
   "source": [
    "### Sales By Location\n",
    "\n",
    "Calculating the sum of subtotals by location.\n",
    "\n",
    "Creating a dictionary to store them, where location is the key, and revenue for that location is the value.\n",
    "\n",
    "\n",
    "Expected output should look like \n",
    "{'Location1': sum of subtotals for 'Location1'}\n"
   ]
  },
  {
   "cell_type": "code",
   "execution_count": 16,
   "id": "960a8d1b",
   "metadata": {},
   "outputs": [
    {
     "name": "stdout",
     "output_type": "stream",
     "text": [
      "{'Mammoth': 3879.8099999999995,\n",
      " 'Stowe': 3582.8199999999993,\n",
      " 'Sun Valley': 1268.84}\n"
     ]
    }
   ],
   "source": [
    "# Grouping sum of subtotal by location\n",
    "\n",
    "location_sums = {}\n",
    "\n",
    "for i in order_dict.values():\n",
    "    l = i[5]\n",
    "    if l not in location_sums:\n",
    "        location_sums[l]=0\n",
    "    \n",
    "    location_sums[l] +=i[2]\n",
    "    \n",
    "pprint(location_sums)"
   ]
  },
  {
   "cell_type": "markdown",
   "id": "a9ffa683",
   "metadata": {},
   "source": [
    "###  Aggregator Function\n",
    "\n",
    "Writing a function to generalize calculating a sum of a column, grouped by the unique values in another column (for example, sum of totals by date or customer_id).\n",
    "\n",
    "The function takes the following arguments:\n",
    "* index of the 'column' (index position in order_dict) to group by\n",
    "* index of the 'column' (index position in order_dict) to sum by category\n",
    "* the dictionary where the data is located (assume the same structure as order_dict.\n",
    "\n",
    "It should return:\n",
    "* A dictionary with the categories as keys, and the sum by category as value."
   ]
  },
  {
   "cell_type": "code",
   "execution_count": 17,
   "id": "32c8ca53",
   "metadata": {},
   "outputs": [],
   "source": [
    "def aggregator(l,m,dictionary):\n",
    "    result_dict = {}\n",
    "    for i in dictionary.values():\n",
    "        a = i[l]\n",
    "        if a not in result_dict:\n",
    "            result_dict[a] = 0\n",
    "        result_dict[a] += i[m]\n",
    "    return result_dict"
   ]
  },
  {
   "cell_type": "code",
   "execution_count": 18,
   "id": "b034d599",
   "metadata": {},
   "outputs": [
    {
     "data": {
      "text/plain": [
       "{'11/26/2021': 5915.179999999999,\n",
       " '11/27/2021': 1714.25,\n",
       " '11/28/2021': 1719.2400000000002}"
      ]
     },
     "execution_count": 18,
     "metadata": {},
     "output_type": "execute_result"
    }
   ],
   "source": [
    "# index 1 = date, index 4 = total\n",
    "aggregator(1, 4, order_dict)"
   ]
  },
  {
   "cell_type": "code",
   "execution_count": 19,
   "id": "92703b3d",
   "metadata": {},
   "outputs": [
    {
     "data": {
      "text/plain": [
       "{'C00004': 146.85,\n",
       " 'C00007': 953.97,\n",
       " 'C00015': 861.97,\n",
       " 'C00016': 220.43,\n",
       " 'C00020': 6.47,\n",
       " 'C00010': 1077.46,\n",
       " 'C00006': 53.86,\n",
       " 'C00001': 2079.48,\n",
       " 'C00003': 107.99,\n",
       " 'C00014': 275.35,\n",
       " 'C00005': 28.06,\n",
       " 'C00008': 794.97,\n",
       " 'C00013': 97.19,\n",
       " 'C00017': 635.99,\n",
       " 'C00019': 701.98,\n",
       " 'C00002': 26.49,\n",
       " 'C00021': 107.74,\n",
       " 'C00022': 6.47,\n",
       " 'C00018': 1165.95}"
      ]
     },
     "execution_count": 19,
     "metadata": {},
     "output_type": "execute_result"
    }
   ],
   "source": [
    "# index 0 = customer_id\n",
    "aggregator(0, 4, order_dict)"
   ]
  }
 ],
 "metadata": {
  "kernelspec": {
   "display_name": "Python 3 (ipykernel)",
   "language": "python",
   "name": "python3"
  },
  "language_info": {
   "codemirror_mode": {
    "name": "ipython",
    "version": 3
   },
   "file_extension": ".py",
   "mimetype": "text/x-python",
   "name": "python",
   "nbconvert_exporter": "python",
   "pygments_lexer": "ipython3",
   "version": "3.9.12"
  }
 },
 "nbformat": 4,
 "nbformat_minor": 5
}
